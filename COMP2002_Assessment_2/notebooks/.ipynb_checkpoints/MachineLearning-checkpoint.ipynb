{
 "cells": [
  {
   "cell_type": "markdown",
   "id": "9934083a-ee18-4b2a-80c3-356b68e07c70",
   "metadata": {},
   "source": [
    "# Assessment 2: Machine Learning and Optimisation"
   ]
  },
  {
   "cell_type": "markdown",
   "id": "eafc585d-4b70-4e53-87a1-3d395734fee3",
   "metadata": {},
   "source": [
    "## PART 1 – MACHINE LEARNING"
   ]
  },
  {
   "cell_type": "markdown",
   "id": "9a1c93e8-eb58-4cef-bc6b-b66a0aa5d785",
   "metadata": {},
   "source": [
    "### Task 1.1 – Data preparation "
   ]
  },
  {
   "cell_type": "code",
   "execution_count": 1,
   "id": "54bf9fd2-38b9-4938-b48b-af0369c28009",
   "metadata": {},
   "outputs": [],
   "source": [
    "# Import necessary libraries\n",
    "import pandas as pd\n",
    "from sklearn.preprocessing import StandardScaler"
   ]
  },
  {
   "cell_type": "code",
   "execution_count": 2,
   "id": "6d2a4d75-1ce8-4c75-a322-67f53ad1a403",
   "metadata": {},
   "outputs": [],
   "source": [
    "# Load the dataset\n",
    "glass_data = r'C:\\Users\\Jacks\\Desktop\\COMP2002_Assessment_2\\datasets\\glass_dataset.csv'"
   ]
  },
  {
   "cell_type": "code",
   "execution_count": 3,
   "id": "a5b90f34-4a5e-4cc6-8a82-2dc9e46a878c",
   "metadata": {},
   "outputs": [
    {
     "name": "stdout",
     "output_type": "stream",
     "text": [
      "Data loaded successfully!\n"
     ]
    }
   ],
   "source": [
    "# Loading the dataset using an efficient approach with pandas\n",
    "try:\n",
    "    data = pd.read_csv(glass_data)\n",
    "    print(\"Data loaded successfully!\")\n",
    "except FileNotFoundError:\n",
    "    print(f\"Failed to load data. Please check the path: {glass_data}\")"
   ]
  },
  {
   "cell_type": "code",
   "execution_count": 4,
   "id": "df782f1d-ffcd-4731-8990-e393b17e7617",
   "metadata": {},
   "outputs": [
    {
     "name": "stdout",
     "output_type": "stream",
     "text": [
      "First few rows of the dataset:\n",
      "        RI     Na    Mg    Al     Si     K    Ca   Ba   Fe  Type\n",
      "0  1.52101  13.64  4.49  1.10  71.78  0.06  8.75  0.0  0.0     1\n",
      "1  1.51761  13.89  3.60  1.36  72.73  0.48  7.83  0.0  0.0     1\n",
      "2  1.51618  13.53  3.55  1.54  72.99  0.39  7.78  0.0  0.0     1\n",
      "3  1.51766  13.21  3.69  1.29  72.61  0.57  8.22  0.0  0.0     1\n",
      "4  1.51742  13.27  3.62  1.24  73.08  0.55  8.07  0.0  0.0     1\n"
     ]
    }
   ],
   "source": [
    "# Display the first few rows to understand the dataset's structure\n",
    "print(\"First few rows of the dataset:\")\n",
    "print(data.head())"
   ]
  },
  {
   "cell_type": "code",
   "execution_count": 5,
   "id": "e3b8f850-ac0b-4889-9f0e-03b117e002a5",
   "metadata": {},
   "outputs": [
    {
     "name": "stdout",
     "output_type": "stream",
     "text": [
      "Checking for missing values:\n",
      "RI      0\n",
      "Na      0\n",
      "Mg      0\n",
      "Al      0\n",
      "Si      0\n",
      "K       0\n",
      "Ca      0\n",
      "Ba      0\n",
      "Fe      0\n",
      "Type    0\n",
      "dtype: int64\n"
     ]
    }
   ],
   "source": [
    "# Check and print the missing values in each column\n",
    "print(\"Checking for missing values:\")\n",
    "missing_data = data.isnull().sum()\n",
    "print(missing_data)"
   ]
  },
  {
   "cell_type": "code",
   "execution_count": 6,
   "id": "6e9cb87d-08e0-4fa7-8598-31a14fabdb6f",
   "metadata": {},
   "outputs": [],
   "source": [
    "# Assuming 'Type' is the last column and the rest are features to be scaled\n",
    "features = data.columns[:-1]  # Excluding the target column for scaling\n",
    "scaler = StandardScaler()"
   ]
  },
  {
   "cell_type": "code",
   "execution_count": 7,
   "id": "4e1b51fc-1cd2-484c-95c2-67fa6957e1b0",
   "metadata": {},
   "outputs": [],
   "source": [
    "# Apply scaling to the features\n",
    "data[features] = scaler.fit_transform(data[features])"
   ]
  },
  {
   "cell_type": "code",
   "execution_count": 8,
   "id": "142cb226-bdd3-4f71-a630-8971cd2428ed",
   "metadata": {},
   "outputs": [
    {
     "name": "stdout",
     "output_type": "stream",
     "text": [
      "Scaled features:\n",
      "         RI        Na        Mg        Al        Si         K        Ca  \\\n",
      "0  0.872868  0.284953  1.254639 -0.692442 -1.127082 -0.671705 -0.145766   \n",
      "1 -0.249333  0.591817  0.636168 -0.170460  0.102319 -0.026213 -0.793734   \n",
      "2 -0.721318  0.149933  0.601422  0.190912  0.438787 -0.164533 -0.828949   \n",
      "3 -0.232831 -0.242853  0.698710 -0.310994 -0.052974  0.112107 -0.519052   \n",
      "4 -0.312045 -0.169205  0.650066 -0.411375  0.555256  0.081369 -0.624699   \n",
      "\n",
      "         Ba        Fe  Type  \n",
      "0 -0.352877 -0.586451     1  \n",
      "1 -0.352877 -0.586451     1  \n",
      "2 -0.352877 -0.586451     1  \n",
      "3 -0.352877 -0.586451     1  \n",
      "4 -0.352877 -0.586451     1  \n"
     ]
    }
   ],
   "source": [
    "# Confirm the scaling was applied by displaying the scaled features\n",
    "print(\"Scaled features:\")\n",
    "print(data.head())"
   ]
  },
  {
   "cell_type": "code",
   "execution_count": 10,
   "id": "adfbeafa-5303-45b7-aa6f-ea82895c5042",
   "metadata": {},
   "outputs": [],
   "source": [
    "# Splitting the data into features (X) and the target variable (y)\n",
    "X = data[features]  # All columns except the target\n",
    "y = data['Type']  # Assuming 'Type' is the target column"
   ]
  },
  {
   "cell_type": "markdown",
   "id": "b9d8cc08-c9a9-408b-9249-79d29bc14d93",
   "metadata": {},
   "source": [
    "# Print the shapes of features and target to ensure correctness\n",
    "print(\"Shapes of X (features) and y (target):\")\n",
    "print(\"Shape of X:\", X.shape)\n",
    "print(\"Shape of y:\", y.shape)"
   ]
  }
 ],
 "metadata": {
  "kernelspec": {
   "display_name": "Python 3 (ipykernel)",
   "language": "python",
   "name": "python3"
  },
  "language_info": {
   "codemirror_mode": {
    "name": "ipython",
    "version": 3
   },
   "file_extension": ".py",
   "mimetype": "text/x-python",
   "name": "python",
   "nbconvert_exporter": "python",
   "pygments_lexer": "ipython3",
   "version": "3.12.4"
  }
 },
 "nbformat": 4,
 "nbformat_minor": 5
}
