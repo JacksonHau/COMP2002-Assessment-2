{
 "cells": [
  {
   "cell_type": "markdown",
   "id": "9934083a-ee18-4b2a-80c3-356b68e07c70",
   "metadata": {},
   "source": [
    "# Assessment 2: Machine Learning and Optimisation"
   ]
  },
  {
   "cell_type": "markdown",
   "id": "eafc585d-4b70-4e53-87a1-3d395734fee3",
   "metadata": {},
   "source": [
    "## PART 1 – MACHINE LEARNING"
   ]
  },
  {
   "cell_type": "markdown",
   "id": "9a1c93e8-eb58-4cef-bc6b-b66a0aa5d785",
   "metadata": {},
   "source": [
    "### Task 1.1 – Data preparation "
   ]
  },
  {
   "cell_type": "code",
   "execution_count": 1,
   "id": "54bf9fd2-38b9-4938-b48b-af0369c28009",
   "metadata": {},
   "outputs": [],
   "source": [
    "# Import necessary libraries\n",
    "import pandas as pd\n",
    "from sklearn.preprocessing import StandardScaler"
   ]
  },
  {
   "cell_type": "code",
   "execution_count": 2,
   "id": "6d2a4d75-1ce8-4c75-a322-67f53ad1a403",
   "metadata": {},
   "outputs": [],
   "source": [
    "# Load the dataset\n",
    "glass_data = r'C:\\Users\\Jacks\\Desktop\\COMP2002_Assessment_2\\datasets\\glass_dataset.csv'"
   ]
  },
  {
   "cell_type": "code",
   "execution_count": 3,
   "id": "a5b90f34-4a5e-4cc6-8a82-2dc9e46a878c",
   "metadata": {},
   "outputs": [],
   "source": [
    "# Loading the dataset\n",
    "data = pd.read_csv(glass_data)"
   ]
  },
  {
   "cell_type": "code",
   "execution_count": 4,
   "id": "df782f1d-ffcd-4731-8990-e393b17e7617",
   "metadata": {},
   "outputs": [
    {
     "name": "stdout",
     "output_type": "stream",
     "text": [
      "Initial data loaded:\n",
      "        RI     Na    Mg    Al     Si     K    Ca   Ba   Fe  Type\n",
      "0  1.52101  13.64  4.49  1.10  71.78  0.06  8.75  0.0  0.0     1\n",
      "1  1.51761  13.89  3.60  1.36  72.73  0.48  7.83  0.0  0.0     1\n",
      "2  1.51618  13.53  3.55  1.54  72.99  0.39  7.78  0.0  0.0     1\n",
      "3  1.51766  13.21  3.69  1.29  72.61  0.57  8.22  0.0  0.0     1\n",
      "4  1.51742  13.27  3.62  1.24  73.08  0.55  8.07  0.0  0.0     1\n"
     ]
    }
   ],
   "source": [
    "# Display the initial data to verify it's loaded correctly\n",
    "print(\"Initial data loaded:\")\n",
    "print(data.head())"
   ]
  },
  {
   "cell_type": "code",
   "execution_count": 5,
   "id": "e3b8f850-ac0b-4889-9f0e-03b117e002a5",
   "metadata": {},
   "outputs": [
    {
     "name": "stdout",
     "output_type": "stream",
     "text": [
      "Missing values in each column:\n",
      "RI      0\n",
      "Na      0\n",
      "Mg      0\n",
      "Al      0\n",
      "Si      0\n",
      "K       0\n",
      "Ca      0\n",
      "Ba      0\n",
      "Fe      0\n",
      "Type    0\n",
      "dtype: int64\n"
     ]
    }
   ],
   "source": [
    "# Check and print the missing values in each column\n",
    "missing_data = data.isnull().sum()\n",
    "print(\"Missing values in each column:\")\n",
    "print(missing_data)"
   ]
  },
  {
   "cell_type": "code",
   "execution_count": 6,
   "id": "6e9cb87d-08e0-4fa7-8598-31a14fabdb6f",
   "metadata": {},
   "outputs": [],
   "source": [
    "# Since there are no missing values as per the task requirements, proceed with normalization\n",
    "scaler = StandardScaler()\n",
    "features = data.columns[:-1]  # Assuming the last column is the target, adjust if otherwise\n",
    "data[features] = scaler.fit_transform(data[features])"
   ]
  },
  {
   "cell_type": "code",
   "execution_count": 7,
   "id": "4e1b51fc-1cd2-484c-95c2-67fa6957e1b0",
   "metadata": {},
   "outputs": [],
   "source": [
    "# Apply scaling to the features\n",
    "data[features] = scaler.fit_transform(data[features])"
   ]
  },
  {
   "cell_type": "code",
   "execution_count": 8,
   "id": "142cb226-bdd3-4f71-a630-8971cd2428ed",
   "metadata": {},
   "outputs": [
    {
     "name": "stdout",
     "output_type": "stream",
     "text": [
      "Normalized data:\n",
      "         RI        Na        Mg        Al        Si         K        Ca  \\\n",
      "0  0.872868  0.284953  1.254639 -0.692442 -1.127082 -0.671705 -0.145766   \n",
      "1 -0.249333  0.591817  0.636168 -0.170460  0.102319 -0.026213 -0.793734   \n",
      "2 -0.721318  0.149933  0.601422  0.190912  0.438787 -0.164533 -0.828949   \n",
      "3 -0.232831 -0.242853  0.698710 -0.310994 -0.052974  0.112107 -0.519052   \n",
      "4 -0.312045 -0.169205  0.650066 -0.411375  0.555256  0.081369 -0.624699   \n",
      "\n",
      "         Ba        Fe  Type  \n",
      "0 -0.352877 -0.586451     1  \n",
      "1 -0.352877 -0.586451     1  \n",
      "2 -0.352877 -0.586451     1  \n",
      "3 -0.352877 -0.586451     1  \n",
      "4 -0.352877 -0.586451     1  \n"
     ]
    }
   ],
   "source": [
    "# Display the normalized data to verify scaling\n",
    "print(\"Normalized data:\")\n",
    "print(data.head())"
   ]
  },
  {
   "cell_type": "markdown",
   "id": "592b8230-a51b-4935-93ca-290531b67242",
   "metadata": {},
   "source": [
    "### Task 1.2 – Classification"
   ]
  },
  {
   "cell_type": "code",
   "execution_count": 9,
   "id": "ed6fa0d1-f8fa-4788-8757-ec5f334fcc21",
   "metadata": {},
   "outputs": [],
   "source": [
    "# Import necessary libraries\n",
    "from sklearn.model_selection import train_test_split, GridSearchCV\n",
    "from sklearn.neighbors import KNeighborsClassifier\n",
    "from sklearn.svm import SVC\n",
    "from sklearn.metrics import classification_report"
   ]
  },
  {
   "cell_type": "code",
   "execution_count": 10,
   "id": "de768c7e-34f2-4455-81db-ae2ecdfc784d",
   "metadata": {},
   "outputs": [],
   "source": [
    "# Check for missing values and handle them if necessary\n",
    "if data.isnull().sum().any():\n",
    "    data.fillna(data.mean(), inplace=True)"
   ]
  },
  {
   "cell_type": "code",
   "execution_count": 11,
   "id": "e830588a-6b1b-4c03-8933-d48800a17390",
   "metadata": {},
   "outputs": [],
   "source": [
    "# Define features and target\n",
    "features = data.columns[:-1]  # Assuming the last column is the target\n",
    "target = data.columns[-1]"
   ]
  },
  {
   "cell_type": "code",
   "execution_count": 12,
   "id": "6c699527-472e-4e13-82f2-f482d24342a9",
   "metadata": {},
   "outputs": [],
   "source": [
    "# Scale the data\n",
    "scaler = StandardScaler()\n",
    "data[features] = scaler.fit_transform(data[features])"
   ]
  },
  {
   "cell_type": "code",
   "execution_count": 13,
   "id": "b09d2113-c461-453f-8873-e2ef6627057a",
   "metadata": {},
   "outputs": [],
   "source": [
    "# Split the data\n",
    "X = data[features]\n",
    "y = data[target]\n",
    "X_train, X_test, y_train, y_test = train_test_split(X, y, test_size=0.3, random_state=42)"
   ]
  },
  {
   "cell_type": "code",
   "execution_count": 14,
   "id": "0c31a17e-a4a6-4cbe-af39-6d1b765af8ee",
   "metadata": {},
   "outputs": [],
   "source": [
    "# k-Nearest Neighbors (kNN) Classifier Setup\n",
    "knn_params = {'n_neighbors': [1, 3, 5, 7, 9]}\n",
    "knn_grid = GridSearchCV(KNeighborsClassifier(), knn_params, cv=5, scoring='accuracy')\n",
    "knn_grid.fit(X_train, y_train)\n",
    "best_knn = knn_grid.best_estimator_"
   ]
  },
  {
   "cell_type": "code",
   "execution_count": 15,
   "id": "0a978253-b925-4261-a533-a8be02d204f5",
   "metadata": {},
   "outputs": [],
   "source": [
    "# Support Vector Machine (SVM) Classifier Setup\n",
    "svm_params = {\n",
    "    'C': [0.1, 1, 10],\n",
    "    'kernel': ['linear', 'poly', 'rbf'],\n",
    "    'degree': [2, 3]  # Restricting degree for polynomial kernel\n",
    "}\n",
    "svm_grid = GridSearchCV(SVC(), svm_params, cv=5, scoring='accuracy')\n",
    "svm_grid.fit(X_train, y_train)\n",
    "best_svm = svm_grid.best_estimator_"
   ]
  },
  {
   "cell_type": "code",
   "execution_count": 16,
   "id": "18006c7c-2ed4-494f-b506-c2fa7909d3a6",
   "metadata": {},
   "outputs": [
    {
     "name": "stdout",
     "output_type": "stream",
     "text": [
      "Best kNN Model Parameters: {'n_neighbors': 1}\n",
      "k-Nearest Neighbors Classification Report:\n",
      "              precision    recall  f1-score   support\n",
      "\n",
      "           1       0.70      0.84      0.76        19\n",
      "           2       0.68      0.65      0.67        23\n",
      "           3       0.50      0.50      0.50         4\n",
      "           5       1.00      0.33      0.50         6\n",
      "           6       0.60      1.00      0.75         3\n",
      "           7       1.00      0.90      0.95        10\n",
      "\n",
      "    accuracy                           0.72        65\n",
      "   macro avg       0.75      0.70      0.69        65\n",
      "weighted avg       0.75      0.72      0.72        65\n",
      "\n"
     ]
    }
   ],
   "source": [
    "# Evaluating the best kNN model\n",
    "print(\"Best kNN Model Parameters:\", knn_grid.best_params_)\n",
    "knn_predictions = best_knn.predict(X_test)\n",
    "print(\"k-Nearest Neighbors Classification Report:\")\n",
    "print(classification_report(y_test, knn_predictions, zero_division=0))"
   ]
  },
  {
   "cell_type": "code",
   "execution_count": 17,
   "id": "66c8a0f6-b0aa-4194-8d09-bb1c6406770b",
   "metadata": {},
   "outputs": [
    {
     "name": "stdout",
     "output_type": "stream",
     "text": [
      "Best SVM Model Parameters: {'C': 1, 'degree': 2, 'kernel': 'rbf'}\n",
      "Support Vector Machine Classification Report:\n",
      "              precision    recall  f1-score   support\n",
      "\n",
      "           1       0.67      0.84      0.74        19\n",
      "           2       0.64      0.70      0.67        23\n",
      "           3       0.00      0.00      0.00         4\n",
      "           5       1.00      0.50      0.67         6\n",
      "           6       0.50      0.67      0.57         3\n",
      "           7       1.00      0.90      0.95        10\n",
      "\n",
      "    accuracy                           0.71        65\n",
      "   macro avg       0.63      0.60      0.60        65\n",
      "weighted avg       0.69      0.71      0.69        65\n",
      "\n"
     ]
    }
   ],
   "source": [
    "# Evaluating the best SVM model\n",
    "print(\"Best SVM Model Parameters:\", svm_grid.best_params_)\n",
    "svm_predictions = best_svm.predict(X_test)\n",
    "print(\"Support Vector Machine Classification Report:\")\n",
    "print(classification_report(y_test, svm_predictions, zero_division=0))"
   ]
  },
  {
   "cell_type": "code",
   "execution_count": 18,
   "id": "419dfc87-680f-4986-ab9f-b776ca986dc0",
   "metadata": {},
   "outputs": [
    {
     "name": "stdout",
     "output_type": "stream",
     "text": [
      "Sample Input Features: [{'RI': -0.2691370184124476, 'Na': -0.5006183708340572, 'Mg': 0.6361680303200007, 'Al': -0.17046023236518412, 'Si': 0.4387867303308444, 'K': 0.1121065145161126, 'Ca': -0.3922756855470959, 'Ba': -0.3528768282577753, 'Fe': 0.5451109200794807}]\n",
      "kNN Prediction for Sample Input: [1]\n",
      "SVM Prediction for Sample Input: [1]\n"
     ]
    }
   ],
   "source": [
    "# Demonstrate a prediction for a single input\n",
    "sample_input = X_test.iloc[0:1]  # Select the first row from the test data\n",
    "knn_sample_prediction = best_knn.predict(sample_input)\n",
    "svm_sample_prediction = best_svm.predict(sample_input)\n",
    "print(\"Sample Input Features:\", sample_input.to_dict(orient='records'))\n",
    "print(\"kNN Prediction for Sample Input:\", knn_sample_prediction)\n",
    "print(\"SVM Prediction for Sample Input:\", svm_sample_prediction)"
   ]
  },
  {
   "cell_type": "markdown",
   "id": "e52fe9cc-d50f-46bd-b407-b0c9a57eff25",
   "metadata": {},
   "source": [
    "### Task 1.3 – Assessment of classification"
   ]
  },
  {
   "cell_type": "code",
   "execution_count": 40,
   "id": "2d484d1d-57f2-4f17-ac8c-bc5934325e72",
   "metadata": {},
   "outputs": [],
   "source": [
    "# Import libraries needed for cross-validation and plotting \n",
    "import numpy as np\n",
    "import matplotlib.pyplot as plt\n",
    "from sklearn.model_selection import cross_val_score"
   ]
  },
  {
   "cell_type": "code",
   "execution_count": 41,
   "id": "77413008-84f3-4b38-993c-2e02e9d6bbef",
   "metadata": {},
   "outputs": [],
   "source": [
    "# Perform cross-validation for each model\n",
    "knn_scores = cross_val_score(best_knn, X, y, cv=5, scoring='accuracy')\n",
    "svm_scores = cross_val_score(best_svm, X, y, cv=5, scoring='accuracy')"
   ]
  },
  {
   "cell_type": "code",
   "execution_count": 42,
   "id": "7fa40ec9-017c-4b58-bf34-be8bfcb13add",
   "metadata": {},
   "outputs": [
    {
     "name": "stdout",
     "output_type": "stream",
     "text": [
      "kNN cross-validation accuracy scores: [0.60465116 0.74418605 0.62790698 0.55813953 0.57142857]\n",
      "SVM cross-validation accuracy scores: [0.58139535 0.69767442 0.53488372 0.74418605 0.69047619]\n"
     ]
    }
   ],
   "source": [
    "# Print raw accuracy scores for each fold\n",
    "print(\"kNN cross-validation accuracy scores:\", knn_scores)\n",
    "print(\"SVM cross-validation accuracy scores:\", svm_scores)"
   ]
  },
  {
   "cell_type": "code",
   "execution_count": 43,
   "id": "3cc44746-7ab2-4b5d-a194-f6ec73e75453",
   "metadata": {},
   "outputs": [
    {
     "name": "stdout",
     "output_type": "stream",
     "text": [
      "kNN Mean Accuracy: 0.621 ± 0.066\n",
      "SVM Mean Accuracy: 0.650 ± 0.078\n"
     ]
    }
   ],
   "source": [
    "# Calculate and print the mean and standard deviation\n",
    "knn_mean, knn_std = np.mean(knn_scores), np.std(knn_scores)\n",
    "svm_mean, svm_std = np.mean(svm_scores), np.std(svm_scores)\n",
    "\n",
    "print(f\"kNN Mean Accuracy: {knn_mean:.3f} ± {knn_std:.3f}\")\n",
    "print(f\"SVM Mean Accuracy: {svm_mean:.3f} ± {svm_std:.3f}\")"
   ]
  },
  {
   "cell_type": "code",
   "execution_count": 44,
   "id": "7670ee4e-ed45-410d-8df1-d35d3cc5f9eb",
   "metadata": {},
   "outputs": [
    {
     "data": {
      "text/plain": [
       "Text(0, 0.5, 'Accuracy')"
      ]
     },
     "execution_count": 44,
     "metadata": {},
     "output_type": "execute_result"
    },
    {
     "data": {
      "image/png": "[encoded data removed]",
      "text/plain": [
       "<Figure size 640x480 with 1 Axes>"
      ]
     },
     "metadata": {},
     "output_type": "display_data"
    }
   ],
   "source": [
    "# Create a boxplot of cross-validation accuracy\n",
    "plt.boxplot([knn_scores, svm_scores])\n",
    "plt.title('Cross-Validation Accuracy Comparison')\n",
    "plt.ylabel('Accuracy')"
   ]
  },
  {
   "cell_type": "code",
   "execution_count": 48,
   "id": "d0dcafb4-078a-4373-af49-b90f2f107a7a",
   "metadata": {},
   "outputs": [
    {
     "data": {
      "image/png": "[encoded data removed]",
      "text/plain": [
       "<Figure size 640x480 with 1 Axes>"
      ]
     },
     "metadata": {},
     "output_type": "display_data"
    }
   ],
   "source": [
    "# Manually set tick labels for each box\n",
    "plt.xticks([1, 2], ['kNN', 'SVM'])\n",
    "\n",
    "plt.show()"
   ]
  },
  {
   "cell_type": "code",
   "execution_count": 49,
   "id": "3eab97e1-e608-4b66-a47f-0886ae67d930",
   "metadata": {},
   "outputs": [
    {
     "name": "stdout",
     "output_type": "stream",
     "text": [
      "\n",
      "Classification Report for kNN on Entire Dataset:\n",
      "              precision    recall  f1-score   support\n",
      "\n",
      "           1       0.91      0.96      0.93        70\n",
      "           2       0.91      0.89      0.90        76\n",
      "           3       0.88      0.88      0.88        17\n",
      "           5       1.00      0.69      0.82        13\n",
      "           6       0.82      1.00      0.90         9\n",
      "           7       1.00      0.97      0.98        29\n",
      "\n",
      "    accuracy                           0.92       214\n",
      "   macro avg       0.92      0.90      0.90       214\n",
      "weighted avg       0.92      0.92      0.92       214\n",
      "\n",
      "Classification Report for SVM on Entire Dataset:\n",
      "              precision    recall  f1-score   support\n",
      "\n",
      "           1       0.69      0.87      0.77        70\n",
      "           2       0.74      0.76      0.75        76\n",
      "           3       0.00      0.00      0.00        17\n",
      "           5       1.00      0.77      0.87        13\n",
      "           6       0.80      0.89      0.84         9\n",
      "           7       1.00      0.93      0.96        29\n",
      "\n",
      "    accuracy                           0.77       214\n",
      "   macro avg       0.70      0.70      0.70       214\n",
      "weighted avg       0.72      0.77      0.74       214\n",
      "\n"
     ]
    }
   ],
   "source": [
    "# Classification report on entire dataset or a separate test set\n",
    "knn_preds_all = best_knn.predict(X)\n",
    "svm_preds_all = best_svm.predict(X)\n",
    "print(\"\\nClassification Report for kNN on Entire Dataset:\")\n",
    "print(classification_report(y, knn_preds_all, zero_division=0))\n",
    "print(\"Classification Report for SVM on Entire Dataset:\")\n",
    "print(classification_report(y, svm_preds_all, zero_division=0))"
   ]
  },
  {
   "cell_type": "code",
   "execution_count": null,
   "id": "e902e3e7-144f-42b6-999c-77be884fdc98",
   "metadata": {},
   "outputs": [],
   "source": []
  }
 ],
 "metadata": {
  "kernelspec": {
   "display_name": "Python 3 (ipykernel)",
   "language": "python",
   "name": "python3"
  },
  "language_info": {
   "codemirror_mode": {
    "name": "ipython",
    "version": 3
   },
   "file_extension": ".py",
   "mimetype": "text/x-python",
   "name": "python",
   "nbconvert_exporter": "python",
   "pygments_lexer": "ipython3",
   "version": "3.12.4"
  }
 },
 "nbformat": 4,
 "nbformat_minor": 5
}
